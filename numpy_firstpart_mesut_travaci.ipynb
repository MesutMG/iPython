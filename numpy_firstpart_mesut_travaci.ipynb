{
 "cells": [
  {
   "cell_type": "code",
   "execution_count": 2,
   "id": "eef180d4",
   "metadata": {},
   "outputs": [],
   "source": [
    "import numpy as np"
   ]
  },
  {
   "cell_type": "code",
   "execution_count": 13,
   "id": "bea64921",
   "metadata": {},
   "outputs": [
    {
     "data": {
      "text/plain": [
       "array([[0., 0.],\n",
       "       [0., 0.]])"
      ]
     },
     "execution_count": 13,
     "metadata": {},
     "output_type": "execute_result"
    }
   ],
   "source": [
    "np.zeros((2,2))"
   ]
  },
  {
   "cell_type": "code",
   "execution_count": 14,
   "id": "91c5d76c",
   "metadata": {},
   "outputs": [
    {
     "data": {
      "text/plain": [
       "array([[1., 1., 1., 1., 1., 1.],\n",
       "       [1., 1., 1., 1., 1., 1.],\n",
       "       [1., 1., 1., 1., 1., 1.],\n",
       "       [1., 1., 1., 1., 1., 1.],\n",
       "       [1., 1., 1., 1., 1., 1.],\n",
       "       [1., 1., 1., 1., 1., 1.]])"
      ]
     },
     "execution_count": 14,
     "metadata": {},
     "output_type": "execute_result"
    }
   ],
   "source": [
    "np.ones((6,6))"
   ]
  },
  {
   "cell_type": "code",
   "execution_count": 22,
   "id": "944f348f",
   "metadata": {},
   "outputs": [
    {
     "data": {
      "text/plain": [
       "array([[0.32466882, 0.4523951 ],\n",
       "       [0.61786194, 0.91073989]])"
      ]
     },
     "execution_count": 22,
     "metadata": {},
     "output_type": "execute_result"
    }
   ],
   "source": [
    "np.random.rand(2,2)"
   ]
  },
  {
   "cell_type": "code",
   "execution_count": 25,
   "id": "9423dd3a",
   "metadata": {},
   "outputs": [
    {
     "data": {
      "text/plain": [
       "array(['Ryan Gosling3712'], dtype='<U16')"
      ]
     },
     "execution_count": 25,
     "metadata": {},
     "output_type": "execute_result"
    }
   ],
   "source": [
    "mlist = ['Ryan Gosling' '37' '1' '2']\n",
    "arr = np.array(mlist)\n",
    "arr"
   ]
  },
  {
   "cell_type": "code",
   "execution_count": 28,
   "id": "a147559d",
   "metadata": {},
   "outputs": [
    {
     "data": {
      "text/plain": [
       "array([ 1,  6, 11, 16, 21, 26, 31, 36, 41, 46, 51, 56, 61, 66, 71, 76, 81,\n",
       "       86, 91, 96])"
      ]
     },
     "execution_count": 28,
     "metadata": {},
     "output_type": "execute_result"
    }
   ],
   "source": [
    "np.arange(1,100,5)"
   ]
  },
  {
   "cell_type": "code",
   "execution_count": 38,
   "id": "077ef0f2",
   "metadata": {},
   "outputs": [
    {
     "data": {
      "text/plain": [
       "(10, 10)"
      ]
     },
     "execution_count": 38,
     "metadata": {},
     "output_type": "execute_result"
    }
   ],
   "source": [
    "a = np.random.rand(10,10)\n",
    "a.shape"
   ]
  },
  {
   "cell_type": "code",
   "execution_count": 40,
   "id": "236f330d",
   "metadata": {},
   "outputs": [
    {
     "data": {
      "text/plain": [
       "array([[0.72213945, 0.10545378, 0.37186848, 0.35372956, 0.31905243,\n",
       "        0.64705466, 0.75856986, 0.66312612, 0.04730448, 0.94590848],\n",
       "       [0.59727582, 0.00969381, 0.5242569 , 0.84772603, 0.20720952,\n",
       "        0.24038172, 0.25111892, 0.07808917, 0.28963913, 0.18196738],\n",
       "       [0.53170257, 0.42737389, 0.37247378, 0.34187668, 0.81280806,\n",
       "        0.06919415, 0.01907553, 0.62684146, 0.68568684, 0.10325419],\n",
       "       [0.71979434, 0.31405334, 0.95063687, 0.17722129, 0.91265569,\n",
       "        0.69237294, 0.79455307, 0.67257854, 0.23651153, 0.08598695],\n",
       "       [0.03947318, 0.80850546, 0.45869588, 0.83014287, 0.59895557,\n",
       "        0.40287503, 0.51678503, 0.79332944, 0.65115033, 0.13210307],\n",
       "       [0.86071739, 0.61983535, 0.92578733, 0.93861278, 0.47257423,\n",
       "        0.24766196, 0.26424908, 0.64164205, 0.68551817, 0.00629721],\n",
       "       [0.25450092, 0.21267051, 0.64501408, 0.16275715, 0.61380015,\n",
       "        0.39219081, 0.48585636, 0.49893919, 0.30877123, 0.05160142],\n",
       "       [0.23051442, 0.36043009, 0.1296609 , 0.61398282, 0.40493671,\n",
       "        0.97512438, 0.0546228 , 0.83727862, 0.52103108, 0.34043415],\n",
       "       [0.53561297, 0.1991805 , 0.05823257, 0.19454076, 0.9659004 ,\n",
       "        0.01314095, 0.4227549 , 0.68124793, 0.4262943 , 0.16915182],\n",
       "       [0.40519876, 0.85941919, 0.51941314, 0.41795118, 0.53440501,\n",
       "        0.45208162, 0.37143609, 0.65655768, 0.7499262 , 0.7059594 ]])"
      ]
     },
     "execution_count": 40,
     "metadata": {},
     "output_type": "execute_result"
    }
   ],
   "source": [
    "a.reshape(5,5,4)\n",
    "a"
   ]
  },
  {
   "cell_type": "code",
   "execution_count": 42,
   "id": "2bcee67d",
   "metadata": {},
   "outputs": [
    {
     "data": {
      "text/plain": [
       "dtype('float64')"
      ]
     },
     "execution_count": 42,
     "metadata": {},
     "output_type": "execute_result"
    }
   ],
   "source": [
    "a.dtype"
   ]
  },
  {
   "cell_type": "code",
   "execution_count": 45,
   "id": "401bc154",
   "metadata": {},
   "outputs": [
    {
     "data": {
      "text/plain": [
       "2"
      ]
     },
     "execution_count": 45,
     "metadata": {},
     "output_type": "execute_result"
    }
   ],
   "source": [
    "a.ndim"
   ]
  }
 ],
 "metadata": {
  "kernelspec": {
   "display_name": "Python 3 (ipykernel)",
   "language": "python",
   "name": "python3"
  },
  "language_info": {
   "codemirror_mode": {
    "name": "ipython",
    "version": 3
   },
   "file_extension": ".py",
   "mimetype": "text/x-python",
   "name": "python",
   "nbconvert_exporter": "python",
   "pygments_lexer": "ipython3",
   "version": "3.11.5"
  }
 },
 "nbformat": 4,
 "nbformat_minor": 5
}
